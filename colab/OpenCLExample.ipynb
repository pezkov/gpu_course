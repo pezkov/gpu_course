{
  "nbformat": 4,
  "nbformat_minor": 0,
  "metadata": {
    "colab": {
      "provenance": [],
      "authorship_tag": "ABX9TyNn8U9IZ2G2zKw8nz7AWoQk",
      "include_colab_link": true
    },
    "kernelspec": {
      "name": "python3",
      "display_name": "Python 3"
    },
    "language_info": {
      "name": "python"
    }
  },
  "cells": [
    {
      "cell_type": "markdown",
      "metadata": {
        "id": "view-in-github",
        "colab_type": "text"
      },
      "source": [
        "<a href=\"https://colab.research.google.com/github/pezkov/gpu_course/blob/main/colab/OpenCLExample.ipynb\" target=\"_parent\"><img src=\"https://colab.research.google.com/assets/colab-badge.svg\" alt=\"Open In Colab\"/></a>"
      ]
    },
    {
      "cell_type": "markdown",
      "source": [
        "# **Пример выполнения программы на OpenCL**\n",
        "\n",
        "* Для запуска примера загрузите файлы из github:\n",
        "\n",
        "  https://github.com/pezkov/gpu_course/tree/main/examples/OpenCL\n",
        "\n",
        "* Для загрузки ваших файлов можно воспользоваться меню слева:\n",
        "\n",
        "  Файлы → Загрузить в сессонное хранилище"
      ],
      "metadata": {
        "id": "pnDCPCBPLi1c"
      }
    },
    {
      "cell_type": "code",
      "source": [
        "!apt install pocl-opencl-icd"
      ],
      "metadata": {
        "id": "SnnP7LvNFBhq"
      },
      "execution_count": null,
      "outputs": []
    },
    {
      "cell_type": "markdown",
      "source": [
        "Сборка проекта:"
      ],
      "metadata": {
        "id": "1DPsO-EbSeNP"
      }
    },
    {
      "cell_type": "code",
      "source": [
        "!rm -rf build/ && mkdir build && cd build && cmake ../ && cmake --build ."
      ],
      "metadata": {
        "id": "n7z78hUoBMKB"
      },
      "execution_count": null,
      "outputs": []
    },
    {
      "cell_type": "markdown",
      "source": [
        "Запуск программы:"
      ],
      "metadata": {
        "id": "ZVk62lg4SiPt"
      }
    },
    {
      "cell_type": "code",
      "source": [
        "!cd build && ./examples_ocl"
      ],
      "metadata": {
        "id": "zne7jMOsDXCp"
      },
      "execution_count": null,
      "outputs": []
    }
  ]
}