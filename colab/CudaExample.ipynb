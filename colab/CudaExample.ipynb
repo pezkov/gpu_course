{
  "nbformat": 4,
  "nbformat_minor": 0,
  "metadata": {
    "colab": {
      "provenance": [],
      "gpuType": "T4",
      "authorship_tag": "ABX9TyO6j71EwekuOib49drcaXBM",
      "include_colab_link": true
    },
    "kernelspec": {
      "name": "python3",
      "display_name": "Python 3"
    },
    "language_info": {
      "name": "python"
    },
    "accelerator": "GPU"
  },
  "cells": [
    {
      "cell_type": "markdown",
      "metadata": {
        "id": "view-in-github",
        "colab_type": "text"
      },
      "source": [
        "<a href=\"https://colab.research.google.com/github/pezkov/gpu_course/blob/main/colab/CudaExample.ipynb\" target=\"_parent\"><img src=\"https://colab.research.google.com/assets/colab-badge.svg\" alt=\"Open In Colab\"/></a>"
      ]
    },
    {
      "cell_type": "markdown",
      "source": [
        "# **Пример выполнения программы на CUDA**\n",
        "\n",
        "* Для начала необходимо сменить среду выполнения:\n",
        "\n",
        "  Перейдите: Среда выполнения → Сменить среду выполнения → Аппаратный ускоритель → Графический процессор Т4\n",
        "\n",
        "* Для загрузки ваших файлов можно воспользоваться меню слева:\n",
        "\n",
        "  Файлы → Загрузить в сессонное хранилище"
      ],
      "metadata": {
        "id": "dhD05_CoK3CA"
      }
    },
    {
      "cell_type": "code",
      "source": [
        "%%writefile example.cu\n",
        "\n",
        "#include \"cuda_runtime.h\"\n",
        "\n",
        "#include <iostream>\n",
        "\n",
        "#define CHECK_CUDA_ERROR(call) { \t\t\t\t\t\t                            \\\n",
        "    cudaError_t err = call; \t\t\t\t\t\t\t                              \\\n",
        "    if (err != cudaSuccess) { \t\t\t\t\t\t\t                            \\\n",
        "        std::cerr << \"Ошибка CUDA (файл: \" << __FILE__ << \", строка: \"  \\\n",
        "         << __LINE__ << \"): \" << cudaGetErrorString(err) << std::endl ; \\\n",
        "        return (int32_t)err;\t\t\t\t\t\t\t                              \\\n",
        "    } \t\t\t\t\t\t\t\t\t\t                                              \\\n",
        "}\n",
        "\n",
        "\n",
        "__global__ void add(int *a, int *b, int *c) {\n",
        "    *c = *a + *b;\n",
        "}\n",
        "\n",
        "int32_t sum(){\n",
        "    int a = 2, b = 3, c = 0;\n",
        "    int *d_a, *d_b, *d_c;\n",
        "\n",
        "    // Выделяем память на GPU\n",
        "    CHECK_CUDA_ERROR(cudaMalloc(&d_a, sizeof(int)));\n",
        "    CHECK_CUDA_ERROR(cudaMalloc(&d_b, sizeof(int)));\n",
        "    CHECK_CUDA_ERROR(cudaMalloc(&d_c, sizeof(int)));\n",
        "\n",
        "    // Копируем данные на GPU\n",
        "    CHECK_CUDA_ERROR(cudaMemcpy(d_a, &a, sizeof(int), cudaMemcpyHostToDevice));\n",
        "    CHECK_CUDA_ERROR(cudaMemcpy(d_b, &b, sizeof(int), cudaMemcpyHostToDevice));\n",
        "\n",
        "    // Запускаем ядро\n",
        "    add<<<1, 1>>>(d_a, d_b, d_c);\n",
        "\n",
        "    // Проверяем ошибки ядра и синхронизируем\n",
        "    CHECK_CUDA_ERROR(cudaGetLastError()); // Проверка ошибок запуска ядра\n",
        "    CHECK_CUDA_ERROR(cudaDeviceSynchronize()); // Синхронизация после ядра\n",
        "\n",
        "    // Копируем результат обратно на CPU\n",
        "    CHECK_CUDA_ERROR(cudaMemcpy(&c, d_c, sizeof(int), cudaMemcpyDeviceToHost));\n",
        "\n",
        "    // Освобождаем память\n",
        "    CHECK_CUDA_ERROR(cudaFree(d_a));\n",
        "    CHECK_CUDA_ERROR(cudaFree(d_b));\n",
        "    CHECK_CUDA_ERROR(cudaFree(d_c));\n",
        "\n",
        "    std::cout << \"Результат: \" << a << \" + \" << b << \" = \" << c << std::endl;\n",
        "\n",
        "    return 0;\n",
        "}\n",
        "\n",
        "int main() {\n",
        "    auto err = sum();\n",
        "    if(err){\n",
        "      return err;\n",
        "    }\n",
        "\n",
        "    return 0;\n",
        "}"
      ],
      "metadata": {
        "colab": {
          "base_uri": "https://localhost:8080/"
        },
        "id": "Jt4akU17HZVN",
        "outputId": "9cb184c3-1a00-4148-ac34-ab4d8d1decb8"
      },
      "execution_count": null,
      "outputs": [
        {
          "output_type": "stream",
          "name": "stdout",
          "text": [
            "Writing example.cu\n"
          ]
        }
      ]
    },
    {
      "cell_type": "markdown",
      "source": [
        "Компиляция и запуск кода из примера:"
      ],
      "metadata": {
        "id": "7bqdfnvUFqN9"
      }
    },
    {
      "cell_type": "code",
      "source": [
        "!nvcc -arch=sm_75 -o example example.cu && ./example"
      ],
      "metadata": {
        "colab": {
          "base_uri": "https://localhost:8080/"
        },
        "id": "i2meffYaHr_x",
        "outputId": "87d63d2a-6ae5-47ce-f96e-0b024955c233"
      },
      "execution_count": null,
      "outputs": [
        {
          "output_type": "stream",
          "name": "stdout",
          "text": [
            "Результат: 2 + 3 = 5\n"
          ]
        }
      ]
    },
    {
      "cell_type": "markdown",
      "source": [
        "Компиляция и запуск кода из загруженного файла:\n",
        "\n",
        "https://github.com/pezkov/gpu_course/blob/main/colab/square.cu"
      ],
      "metadata": {
        "id": "bfFE6Jsxy4VW"
      }
    },
    {
      "cell_type": "code",
      "source": [
        "!nvcc -arch=sm_75 -o square square.cu && ./square"
      ],
      "metadata": {
        "colab": {
          "base_uri": "https://localhost:8080/"
        },
        "id": "cytW_987y9in",
        "outputId": "13a96190-3af7-49af-bb18-8c4b50445861"
      },
      "execution_count": null,
      "outputs": [
        {
          "output_type": "stream",
          "name": "stdout",
          "text": [
            "launching kernel blocksPerGrid 2, threadsPerBlock 1024\n",
            "4 9 16 25 36 49 64 81 100 121 144 \n"
          ]
        }
      ]
    }
  ]
}