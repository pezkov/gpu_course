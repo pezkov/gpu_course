{
  "nbformat": 4,
  "nbformat_minor": 0,
  "metadata": {
    "colab": {
      "provenance": [],
      "gpuType": "T4",
      "authorship_tag": "ABX9TyMNq3E6EQtH8TSCzM6uvR1J",
      "include_colab_link": true
    },
    "kernelspec": {
      "name": "python3",
      "display_name": "Python 3"
    },
    "language_info": {
      "name": "python"
    },
    "accelerator": "GPU"
  },
  "cells": [
    {
      "cell_type": "markdown",
      "metadata": {
        "id": "view-in-github",
        "colab_type": "text"
      },
      "source": [
        "<a href=\"https://colab.research.google.com/github/pezkov/gpu_course/blob/main/OpenCLExample.ipynb\" target=\"_parent\"><img src=\"https://colab.research.google.com/assets/colab-badge.svg\" alt=\"Open In Colab\"/></a>"
      ]
    },
    {
      "cell_type": "code",
      "source": [
        "!apt install pocl-opencl-icd"
      ],
      "metadata": {
        "colab": {
          "base_uri": "https://localhost:8080/"
        },
        "id": "SnnP7LvNFBhq",
        "outputId": "17fa64c9-400a-4d4c-cfba-672070857528"
      },
      "execution_count": 55,
      "outputs": [
        {
          "output_type": "stream",
          "name": "stdout",
          "text": [
            "Reading package lists... Done\n",
            "Building dependency tree... Done\n",
            "Reading state information... Done\n",
            "pocl-opencl-icd is already the newest version (1.8-3).\n",
            "0 upgraded, 0 newly installed, 0 to remove and 21 not upgraded.\n"
          ]
        }
      ]
    },
    {
      "cell_type": "code",
      "source": [
        "%%writefile CMakeLists.txt\n",
        "\n",
        "cmake_minimum_required(VERSION 3.26)\n",
        "project(examples_ocl)\n",
        "\n",
        "set(CMAKE_CXX_STANDARD 17)\n",
        "\n",
        "find_package(OpenCL REQUIRED)\n",
        "\n",
        "add_executable(${PROJECT_NAME} example.cpp)\n",
        "\n",
        "target_link_libraries(${PROJECT_NAME} PUBLIC OpenCL)\n"
      ],
      "metadata": {
        "colab": {
          "base_uri": "https://localhost:8080/"
        },
        "id": "bmMCCTiWBAuY",
        "outputId": "5519d59a-51e0-4c43-b26a-dbd65cba9cac"
      },
      "execution_count": 26,
      "outputs": [
        {
          "output_type": "stream",
          "name": "stdout",
          "text": [
            "Overwriting CMakeLists.txt\n"
          ]
        }
      ]
    },
    {
      "cell_type": "code",
      "execution_count": 54,
      "metadata": {
        "colab": {
          "base_uri": "https://localhost:8080/"
        },
        "id": "FxWkMbG26f1X",
        "outputId": "9e5929eb-813a-4310-bdcf-7d5d04ff0cfa"
      },
      "outputs": [
        {
          "output_type": "stream",
          "name": "stdout",
          "text": [
            "Overwriting example.cpp\n"
          ]
        }
      ],
      "source": [
        "%%writefile example.cpp\n",
        "\n",
        "#include \"CL/opencl.hpp\"\n",
        "\n",
        "#include <iostream>\n",
        "#include <vector>\n",
        "\n",
        "int main(){\n",
        "    // Исходные данные\n",
        "    std::vector<float> A = {1, 2, 3, 4, 5};\n",
        "    std::vector<float> B = {10, 20, 30, 40, 50};\n",
        "    std::vector<float> C(A.size());\n",
        "\n",
        "    // Получаем платформы и устройства\n",
        "    std::vector<cl::Platform> platforms;\n",
        "    cl::Platform::get(&platforms);\n",
        "    cl::Device device;\n",
        "    for (const auto &platform: platforms){\n",
        "        std::vector<cl::Device> devices;\n",
        "        platform.getDevices(CL_DEVICE_TYPE_CPU, &devices);\n",
        "        if(!devices.empty()){\n",
        "            device = devices.front();\n",
        "            break;\n",
        "        }\n",
        "    }\n",
        "\n",
        "    // Создаем контекст и очередь команд\n",
        "    cl::Context context(device);\n",
        "    cl::CommandQueue queue(context, device);\n",
        "\n",
        "    // Выделяем память на GPU\n",
        "    cl::Buffer bufferA(context, CL_MEM_READ_ONLY | CL_MEM_COPY_HOST_PTR, sizeof(float) * A.size(), A.data());\n",
        "    cl::Buffer bufferB(context, CL_MEM_READ_ONLY | CL_MEM_COPY_HOST_PTR, sizeof(float) * B.size(), B.data());\n",
        "    cl::Buffer bufferC(context, CL_MEM_WRITE_ONLY, sizeof(float) * C.size());\n",
        "\n",
        "    // Компилируем ядро\n",
        "    const char* kernel_code = R\"(\n",
        "     __kernel void vector_add(__global const float *A, __global const float *B, __global float *C) {\n",
        "            int id = get_global_id(0);\n",
        "            C[id] = A[id] + B[id];\n",
        "        }\n",
        "    )\";\n",
        "    cl::Program program(context, kernel_code);\n",
        "    program.build(\"-cl-std=CL1.2\");\n",
        "\n",
        "    // Создаем ядро и устанавливаем аргументы\n",
        "    cl::Kernel kernel(program, \"vector_add\");\n",
        "    kernel.setArg(0, bufferA);\n",
        "    kernel.setArg(1, bufferB);\n",
        "    kernel.setArg(2, bufferC);\n",
        "\n",
        "    // Запускаем ядро\n",
        "    queue.enqueueNDRangeKernel(kernel, cl::NullRange, cl::NDRange(A.size()), cl::NullRange);\n",
        "\n",
        "    // Копируем результат обратно на CPU\n",
        "    queue.enqueueReadBuffer(bufferC, CL_TRUE, 0, sizeof(float) * C.size(), C.data());\n",
        "\n",
        "    // Выводим результат\n",
        "    for (float c : C) {\n",
        "        std::cout << c << \" \";\n",
        "    }\n",
        "    return 0;\n",
        "}\n",
        "\n"
      ]
    },
    {
      "cell_type": "code",
      "source": [
        "!rm -rf build/ && mkdir build && cd build && cmake ../ && cmake --build ."
      ],
      "metadata": {
        "colab": {
          "base_uri": "https://localhost:8080/"
        },
        "id": "n7z78hUoBMKB",
        "outputId": "32771d93-0b17-4fc9-a26f-416b9d94a4ff"
      },
      "execution_count": 52,
      "outputs": [
        {
          "output_type": "stream",
          "name": "stdout",
          "text": [
            "-- The C compiler identification is GNU 11.4.0\n",
            "-- The CXX compiler identification is GNU 11.4.0\n",
            "-- Detecting C compiler ABI info\n",
            "-- Detecting C compiler ABI info - done\n",
            "-- Check for working C compiler: /usr/bin/cc - skipped\n",
            "-- Detecting C compile features\n",
            "-- Detecting C compile features - done\n",
            "-- Detecting CXX compiler ABI info\n",
            "-- Detecting CXX compiler ABI info - done\n",
            "-- Check for working CXX compiler: /usr/bin/c++ - skipped\n",
            "-- Detecting CXX compile features\n",
            "-- Detecting CXX compile features - done\n",
            "-- Looking for CL_VERSION_3_0\n",
            "-- Looking for CL_VERSION_3_0 - found\n",
            "-- Found OpenCL: /usr/lib/x86_64-linux-gnu/libOpenCL.so (found version \"3.0\")\n",
            "-- Configuring done (0.6s)\n",
            "-- Generating done (0.0s)\n",
            "-- Build files have been written to: /content/build\n",
            "[ 50%] \u001b[32mBuilding CXX object CMakeFiles/examples_ocl.dir/example.cpp.o\u001b[0m\n",
            "In file included from \u001b[01m\u001b[K/content/example.cpp:2\u001b[m\u001b[K:\n",
            "\u001b[01m\u001b[K/usr/include/CL/opencl.hpp:437:112:\u001b[m\u001b[K \u001b[01;36m\u001b[Knote: \u001b[m\u001b[K‘\u001b[01m\u001b[K#pragma message: opencl.hpp: CL_HPP_TARGET_OPENCL_VERSION is not defined. It will default to 300 (OpenCL 3.0)\u001b[m\u001b[K’\n",
            "  437 | ncl.hpp: CL_HPP_TARGET_OPENCL_VERSION is not defined. It will default to 300 (OpenCL 3.0)\"\u001b[01;36m\u001b[K)\u001b[m\u001b[K\n",
            "      |                                                                                           \u001b[01;36m\u001b[K^\u001b[m\u001b[K\n",
            "\n",
            "[100%] \u001b[32m\u001b[1mLinking CXX executable examples_ocl\u001b[0m\n",
            "[100%] Built target examples_ocl\n"
          ]
        }
      ]
    },
    {
      "cell_type": "code",
      "source": [
        "!cd build && ./examples_ocl"
      ],
      "metadata": {
        "colab": {
          "base_uri": "https://localhost:8080/"
        },
        "id": "zne7jMOsDXCp",
        "outputId": "692cb5a5-a759-4811-bfd8-a743ddbafae4"
      },
      "execution_count": 53,
      "outputs": [
        {
          "output_type": "stream",
          "name": "stdout",
          "text": [
            "Platform Name: Portable Computing Language\n",
            "Platform Vendor: The pocl project\n",
            "Platform Version: OpenCL 2.0 pocl 1.8  Linux, None+Asserts, RELOC, LLVM 11.1.0, SLEEF, DISTRO, POCL_DEBUG\n",
            "Platform Profile: FULL_PROFILE\n",
            "Platform Extensions: cl_khr_icd cl_pocl_content_size\n",
            "\n",
            "Device Name: pthread-Intel(R) Xeon(R) CPU @ 2.20GHz\n",
            "Device Vendor: GenuineIntel\n",
            "11 22 33 44 55 "
          ]
        }
      ]
    },
    {
      "cell_type": "code",
      "source": [
        "!clinfo"
      ],
      "metadata": {
        "colab": {
          "base_uri": "https://localhost:8080/"
        },
        "id": "kX_LHT4xFgN8",
        "outputId": "cb548624-5acc-4864-dc32-0d1afd08f336"
      },
      "execution_count": 47,
      "outputs": [
        {
          "output_type": "stream",
          "name": "stdout",
          "text": [
            "Number of platforms                               1\n",
            "  Platform Name                                   Portable Computing Language\n",
            "  Platform Vendor                                 The pocl project\n",
            "  Platform Version                                OpenCL 2.0 pocl 1.8  Linux, None+Asserts, RELOC, LLVM 11.1.0, SLEEF, DISTRO, POCL_DEBUG\n",
            "  Platform Profile                                FULL_PROFILE\n",
            "  Platform Extensions                             cl_khr_icd cl_pocl_content_size\n",
            "  Platform Extensions function suffix             POCL\n",
            "\n",
            "  Platform Name                                   Portable Computing Language\n",
            "Number of devices                                 1\n",
            "  Device Name                                     pthread-Intel(R) Xeon(R) CPU @ 2.20GHz\n",
            "  Device Vendor                                   GenuineIntel\n",
            "  Device Vendor ID                                0x8086\n",
            "  Device Version                                  OpenCL 1.2 pocl HSTR: pthread-x86_64-pc-linux-gnu-broadwell\n",
            "  Driver Version                                  1.8\n",
            "  Device OpenCL C Version                         OpenCL C 1.2 pocl\n",
            "  Device Type                                     CPU\n",
            "  Device Profile                                  FULL_PROFILE\n",
            "  Device Available                                Yes\n",
            "  Compiler Available                              Yes\n",
            "  Linker Available                                Yes\n",
            "  Max compute units                               2\n",
            "  Max clock frequency                             2199MHz\n",
            "  Device Partition                                (core)\n",
            "    Max number of sub-devices                     2\n",
            "    Supported partition types                     equally, by counts\n",
            "    Supported affinity domains                    (n/a)\n",
            "  Max work item dimensions                        3\n",
            "  Max work item sizes                             4096x4096x4096\n",
            "  Max work group size                             4096\n",
            "  Preferred work group size multiple (kernel)     8\n",
            "  Preferred / native vector sizes                 \n",
            "    char                                                16 / 16      \n",
            "    short                                               16 / 16      \n",
            "    int                                                  8 / 8       \n",
            "    long                                                 4 / 4       \n",
            "    half                                                 0 / 0        (n/a)\n",
            "    float                                                8 / 8       \n",
            "    double                                               4 / 4        (cl_khr_fp64)\n",
            "  Half-precision Floating-point support           (n/a)\n",
            "  Single-precision Floating-point support         (core)\n",
            "    Denormals                                     Yes\n",
            "    Infinity and NANs                             Yes\n",
            "    Round to nearest                              Yes\n",
            "    Round to zero                                 Yes\n",
            "    Round to infinity                             Yes\n",
            "    IEEE754-2008 fused multiply-add               Yes\n",
            "    Support is emulated in software               No\n",
            "    Correctly-rounded divide and sqrt operations  Yes\n",
            "  Double-precision Floating-point support         (cl_khr_fp64)\n",
            "    Denormals                                     Yes\n",
            "    Infinity and NANs                             Yes\n",
            "    Round to nearest                              Yes\n",
            "    Round to zero                                 Yes\n",
            "    Round to infinity                             Yes\n",
            "    IEEE754-2008 fused multiply-add               Yes\n",
            "    Support is emulated in software               No\n",
            "  Address bits                                    64, Little-Endian\n",
            "  Global memory size                              11461947392 (10.67GiB)\n",
            "  Error Correction support                        No\n",
            "  Max memory allocation                           4294967296 (4GiB)\n",
            "  Unified memory for Host and Device              Yes\n",
            "  Minimum alignment for any data type             128 bytes\n",
            "  Alignment of base address                       1024 bits (128 bytes)\n",
            "  Global Memory cache type                        Read/Write\n",
            "  Global Memory cache size                        32768 (32KiB)\n",
            "  Global Memory cache line size                   64 bytes\n",
            "  Image support                                   Yes\n",
            "    Max number of samplers per kernel             16\n",
            "    Max size for 1D images from buffer            268435456 pixels\n",
            "    Max 1D or 2D image array size                 2048 images\n",
            "    Max 2D image size                             16384x16384 pixels\n",
            "    Max 3D image size                             2048x2048x2048 pixels\n",
            "    Max number of read image args                 128\n",
            "    Max number of write image args                128\n",
            "  Local memory type                               Global\n",
            "  Local memory size                               524288 (512KiB)\n",
            "  Max number of constant args                     8\n",
            "  Max constant buffer size                        524288 (512KiB)\n",
            "  Max size of kernel argument                     1024\n",
            "  Queue properties                                \n",
            "    Out-of-order execution                        Yes\n",
            "    Profiling                                     Yes\n",
            "  Prefer user sync for interop                    Yes\n",
            "  Profiling timer resolution                      1ns\n",
            "  Execution capabilities                          \n",
            "    Run OpenCL kernels                            Yes\n",
            "    Run native kernels                            Yes\n",
            "  printf() buffer size                            16777216 (16MiB)\n",
            "  Built-in kernels                                (n/a)\n",
            "  Device Extensions                               cl_khr_byte_addressable_store cl_khr_global_int32_base_atomics cl_khr_global_int32_extended_atomics cl_khr_local_int32_base_atomics cl_khr_local_int32_extended_atomics cl_khr_3d_image_writes cl_khr_fp64 cl_khr_int64_base_atomics cl_khr_int64_extended_atomics cl_khr_fp64\n",
            "\n",
            "NULL platform behavior\n",
            "  clGetPlatformInfo(NULL, CL_PLATFORM_NAME, ...)  No platform\n",
            "  clGetDeviceIDs(NULL, CL_DEVICE_TYPE_ALL, ...)   No platform\n",
            "  clCreateContext(NULL, ...) [default]            No platform\n",
            "  clCreateContext(NULL, ...) [other]              Success [POCL]\n",
            "  clCreateContextFromType(NULL, CL_DEVICE_TYPE_DEFAULT)  Success (1)\n",
            "    Platform Name                                 Portable Computing Language\n",
            "    Device Name                                   pthread-Intel(R) Xeon(R) CPU @ 2.20GHz\n",
            "  clCreateContextFromType(NULL, CL_DEVICE_TYPE_CPU)  Success (1)\n",
            "    Platform Name                                 Portable Computing Language\n",
            "    Device Name                                   pthread-Intel(R) Xeon(R) CPU @ 2.20GHz\n",
            "  clCreateContextFromType(NULL, CL_DEVICE_TYPE_GPU)  No devices found in platform\n",
            "  clCreateContextFromType(NULL, CL_DEVICE_TYPE_ACCELERATOR)  No devices found in platform\n",
            "  clCreateContextFromType(NULL, CL_DEVICE_TYPE_CUSTOM)  No devices found in platform\n",
            "  clCreateContextFromType(NULL, CL_DEVICE_TYPE_ALL)  Success (1)\n",
            "    Platform Name                                 Portable Computing Language\n",
            "    Device Name                                   pthread-Intel(R) Xeon(R) CPU @ 2.20GHz\n"
          ]
        }
      ]
    }
  ]
}